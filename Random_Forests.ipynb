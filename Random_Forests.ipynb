{
 "cells": [
  {
   "cell_type": "code",
   "execution_count": 32,
   "id": "227e1f12-5dfb-4c85-a929-9b6ecba3a140",
   "metadata": {
    "tags": []
   },
   "outputs": [],
   "source": [
    "import numpy as np\n",
    "import pandas as pd\n",
    "from collections import Counter\n",
    "from sklearn.model_selection import train_test_split\n",
    "from sklearn.metrics import accuracy_score, mean_squared_error\n",
    "from sklearn.ensemble import RandomForestClassifier, RandomForestRegressor"
   ]
  },
  {
   "cell_type": "markdown",
   "id": "9942f78b-31c1-49da-aa24-bde50b6a8311",
   "metadata": {},
   "source": [
    "# Decision Tree Regressor"
   ]
  },
  {
   "cell_type": "code",
   "execution_count": 12,
   "id": "dbefc76b-e3fe-4196-b96c-e236826ac1f2",
   "metadata": {
    "tags": []
   },
   "outputs": [],
   "source": [
    "class NodeRegressor():\n",
    "    def __init__(self, feature_index=None, threshold=None, left=None, right=None, var_red=None, value=None):        # for decision node\n",
    "        self.feature_index = feature_index\n",
    "        self.threshold = threshold\n",
    "        self.left = left\n",
    "        self.right = right\n",
    "        self.var_red = var_red\n",
    "        \n",
    "        # for leaf node\n",
    "        self.value = value"
   ]
  },
  {
   "cell_type": "code",
   "execution_count": 45,
   "id": "8fa93dc8-3dea-43f5-8a27-fa21b8597a68",
   "metadata": {
    "tags": []
   },
   "outputs": [],
   "source": [
    "class DecisionTreeRegressor:\n",
    "    def __init__(self, min_samples_split=2, max_depth=2, n_feats=None):\n",
    "        self.root = None\n",
    "        # stopping conditions for regularization\n",
    "        self.min_samples_split = min_samples_split\n",
    "        self.max_depth = max_depth\n",
    "        self.n_feats=n_feats\n",
    "    \n",
    "    def fit(self,X,y):\n",
    "        dataset = np.concatenate((X,y),axis=1)\n",
    "        self.root = self.build_tree(dataset)\n",
    "    \n",
    "    def variance_reduction(self,parent,left,right):\n",
    "        weight_l = len(left)/len(parent)\n",
    "        weight_r = len(right)/len(parent)\n",
    "        var_red = np.var(parent)-(weight_l*np.var(left)+weight_r*np.var(right))\n",
    "        return var_red\n",
    "    \n",
    "    def calculate_leaf_value(self, y):\n",
    "        mean_y = np.mean(y)\n",
    "        return mean_y\n",
    "        \n",
    "    def build_tree(self,dataset,curr_depth=0):\n",
    "        x = dataset[:,:-1]\n",
    "        y = dataset[:,-1]\n",
    "        n_labels = len(np.unique(y))\n",
    "        num_examples,num_features=x.shape\n",
    "        if curr_depth<=self.max_depth and num_features>=self.min_samples_split:\n",
    "            if self.n_feats is None:\n",
    "                feat_idxs = np.arange(num_features)\n",
    "            else:\n",
    "                feat_idxs = np.random.choice(num_features, self.n_feats, replace=False)\n",
    "            best_split=self.get_best_split(dataset,num_examples,feat_idxs)\n",
    "            if best_split!={} and best_split[\"var_red\"]>0:\n",
    "                feature_index=best_split[\"feature_index\"]\n",
    "                threshold=best_split[\"threshold\"]\n",
    "                left=best_split[\"left\"] \n",
    "                right=best_split[\"right\"]\n",
    "                var_red=best_split[\"var_red\"]\n",
    "                left_subtree=self.build_tree(left,curr_depth+1)\n",
    "                right_subtree=self.build_tree(right,curr_depth+1)\n",
    "                return NodeRegressor(feature_index,threshold,left_subtree,right_subtree,var_red)\n",
    "        leaf_val=self.calculate_leaf_value(y)\n",
    "        return NodeRegressor(value=leaf_val)\n",
    "\n",
    "    def get_best_split(self,dataset,num_examples,feat_idxs):\n",
    "        best_split = {}\n",
    "        y = dataset[:,-1]\n",
    "        max_var_red= -float(\"inf\")\n",
    "        for feature_index in feat_idxs:\n",
    "            feature_vector = dataset[:,feature_index]\n",
    "            thresholds = np.unique(feature_vector)\n",
    "            for threshold in thresholds:\n",
    "                dataset_left,dataset_right = self.split(dataset,feature_index,threshold)\n",
    "                if len(dataset_left)>0 and len(dataset_right)>0:\n",
    "                    y_left, y_right = dataset_left[:,-1],dataset_right[:,-1]\n",
    "                    curr_var_red = self.variance_reduction(y,y_left,y_right)\n",
    "                    if max_var_red<curr_var_red:\n",
    "                        best_split[\"feature_index\"] = feature_index\n",
    "                        best_split[\"threshold\"] = threshold\n",
    "                        best_split[\"left\"] =dataset_left\n",
    "                        best_split[\"right\"]=dataset_right\n",
    "                        best_split[\"var_red\"] = curr_var_red\n",
    "                        max_var_red =curr_var_red\n",
    "        return best_split\n",
    "    \n",
    "    def split(self,dataset,feature_index,threshold):\n",
    "        dataset_left = np.array([row for row in dataset if row[feature_index]<=threshold])\n",
    "        dataset_right = np.array([row for row in dataset if row[feature_index]>threshold])\n",
    "        return dataset_left, dataset_right\n",
    "    \n",
    "    def print_tree(self,tree=None, indent=\" \"):\n",
    "        \n",
    "        if tree==None:\n",
    "            tree=self.root\n",
    "        \n",
    "        if tree.value is None:\n",
    "            print(\"X_\"+str(tree.feature_index), \"<=\", tree.threshold, \"? info_gain: \", tree.var_red)\n",
    "            print(\"%sleft:\" % (indent), end=\"\")\n",
    "            self.print_tree(tree.left, indent + indent)\n",
    "            print(\"%sright:\" % (indent), end=\"\")\n",
    "            self.print_tree(tree.right, indent + indent)\n",
    "        else:\n",
    "            print(tree.value)\n",
    "    \n",
    "    def predict(self,x):\n",
    "        \n",
    "        preds = np.array([self.make_prediction(xi,self.root) for xi in x])\n",
    "        return preds\n",
    "    \n",
    "    def make_prediction(self,x,tree):\n",
    "        if tree.value is not None:\n",
    "            return tree.value\n",
    "        threshold = tree.threshold\n",
    "        if x[tree.feature_index] <= threshold:\n",
    "            return self.make_prediction(x,tree.left)\n",
    "        else:\n",
    "            return self.make_prediction(x,tree.right)\n"
   ]
  },
  {
   "cell_type": "markdown",
   "id": "63c570be-9aa5-4d99-bd98-938a59c26c06",
   "metadata": {},
   "source": [
    "# Decision Tree Classifier"
   ]
  },
  {
   "cell_type": "code",
   "execution_count": 14,
   "id": "164f9e32-ecb1-4148-bbd3-7d1d5b86ec52",
   "metadata": {
    "tags": []
   },
   "outputs": [],
   "source": [
    "class NodeClassifier():\n",
    "    def __init__(self, feature_index=None, threshold=None, left=None, right=None, info_gain=None, value=None):        # for decision node\n",
    "        self.feature_index = feature_index\n",
    "        self.threshold = threshold\n",
    "        self.left = left\n",
    "        self.right = right\n",
    "        self.info_gain = info_gain\n",
    "        \n",
    "        # for leaf node\n",
    "        self.value = value"
   ]
  },
  {
   "cell_type": "code",
   "execution_count": 36,
   "id": "8828e1be-f669-4dac-b400-58b6c15e5ba3",
   "metadata": {
    "tags": []
   },
   "outputs": [],
   "source": [
    "class DecisionTreeClassifier:\n",
    "    def __init__(self, min_samples_split=2, max_depth=2, n_feats=None,mode=\"entropy\"):\n",
    "        self.root = None\n",
    "        # stopping conditions for regularization\n",
    "        self.min_samples_split = min_samples_split\n",
    "        self.max_depth = max_depth\n",
    "        self.n_feats = n_feats\n",
    "        self.mode=mode\n",
    "    \n",
    "    def fit(self,X,y):\n",
    "        dataset = np.concatenate((X,y),axis=1)\n",
    "        self.root = self.build_tree(dataset)\n",
    "    \n",
    "    def information_gain(self,parent,left,right):\n",
    "        weight_l = len(left)/len(parent)\n",
    "        weight_r = len(right)/len(parent)\n",
    "        if self.mode==\"gini\":\n",
    "            info_gain = self.gini_index(parent)-(weight_l*self.gini_index(left)+weight_r*self.gini_index(right))\n",
    "        else:\n",
    "            info_gain = self.entropy(parent)-(weight_l*self.entropy(left)+weight_r*self.entropy(right))\n",
    "        \n",
    "        return info_gain\n",
    "        \n",
    "    def entropy(self,y):\n",
    "        entropy=0\n",
    "        classes = np.unique(y)\n",
    "        for c in classes:\n",
    "            prob = len(y[y==c])/len(y)\n",
    "            entropy += -prob*np.log2(prob)\n",
    "        return entropy\n",
    "    \n",
    "    def gini_index(self,y):\n",
    "        gini=0\n",
    "        classes = np.unique(y)\n",
    "        for c in classes:\n",
    "            prob = len(y[y==c])/len(y)\n",
    "            gini += prob**2\n",
    "        return 1-gini\n",
    "    \n",
    "    def calculate_leaf_value(self, y):\n",
    "        max_y = Counter(y).most_common(1)[0][0]\n",
    "        return max_y\n",
    "        \n",
    "    def build_tree(self,dataset,curr_depth=0):\n",
    "        x = dataset[:,:-1]\n",
    "        y = dataset[:,-1]\n",
    "        n_labels = len(np.unique(y))\n",
    "        num_examples,num_features=x.shape\n",
    "        \n",
    "        if curr_depth<=self.max_depth and n_labels > 1 and num_features>=self.min_samples_split:\n",
    "            if self.n_feats is None:\n",
    "                feat_idxs = np.arange(num_features)\n",
    "            else:\n",
    "                feat_idxs = np.random.choice(num_features, self.n_feats, replace=False)\n",
    "\n",
    "            best_split=self.get_best_split(dataset,num_examples,feat_idxs)\n",
    "            if best_split!={} and best_split[\"info_gain\"]>0:\n",
    "                feature_index=best_split[\"feature_index\"]\n",
    "                threshold=best_split[\"threshold\"]\n",
    "                left=best_split[\"left\"] \n",
    "                right=best_split[\"right\"]\n",
    "                info_gain=best_split[\"info_gain\"]\n",
    "                left_subtree=self.build_tree(left,curr_depth+1)\n",
    "                right_subtree=self.build_tree(right,curr_depth+1)\n",
    "                return NodeClassifier(feature_index,threshold,left_subtree,right_subtree,info_gain)\n",
    "        leaf_val=self.calculate_leaf_value(y)\n",
    "        return NodeClassifier(value=leaf_val)\n",
    "\n",
    "    def get_best_split(self,dataset,num_examples,feat_idxs):\n",
    "        best_split = {}\n",
    "        y = dataset[:,-1]\n",
    "        max_gain= -float(\"inf\")\n",
    "        for feature_index in feat_idxs:\n",
    "            feature_vector = dataset[:,feature_index]\n",
    "            thresholds = np.unique(feature_vector)\n",
    "            for threshold in thresholds:\n",
    "                dataset_left,dataset_right = self.split(dataset,feature_index,threshold)\n",
    "                if len(dataset_left)>0 and len(dataset_right)>0:\n",
    "                    y_left, y_right = dataset_left[:,-1],dataset_right[:,-1]\n",
    "                    curr_gain = self.information_gain(y,y_left,y_right)\n",
    "                    if max_gain<curr_gain:\n",
    "                        best_split[\"feature_index\"] = feature_index\n",
    "                        best_split[\"threshold\"] = threshold\n",
    "                        best_split[\"left\"] =dataset_left\n",
    "                        best_split[\"right\"]=dataset_right\n",
    "                        best_split[\"info_gain\"] = curr_gain\n",
    "                        max_gain=curr_gain\n",
    "        return best_split\n",
    "    \n",
    "    def split(self,dataset,feature_index,threshold):\n",
    "        dataset_left = np.array([row for row in dataset if row[feature_index]<=threshold])\n",
    "        dataset_right = np.array([row for row in dataset if row[feature_index]>threshold])\n",
    "        return dataset_left, dataset_right\n",
    "    \n",
    "    def print_tree(self,tree=None, indent=\" \"):\n",
    "        \n",
    "        if tree==None:\n",
    "            tree=self.root\n",
    "        \n",
    "        if tree.value is None:\n",
    "            print(\"X_\"+str(tree.feature_index), \"<=\", tree.threshold, \"? info_gain: \", tree.info_gain)\n",
    "            print(\"%sleft:\" % (indent), end=\"\")\n",
    "            self.print_tree(tree.left, indent + indent)\n",
    "            print(\"%sright:\" % (indent), end=\"\")\n",
    "            self.print_tree(tree.right, indent + indent)\n",
    "        else:\n",
    "            print(tree.value)\n",
    "    \n",
    "    def predict(self,x):\n",
    "        \n",
    "        preds = np.array([self.make_prediction(xi,self.root) for xi in x])\n",
    "        return preds\n",
    "    \n",
    "    def make_prediction(self,x,tree):\n",
    "        if tree.value is not None:\n",
    "            return tree.value\n",
    "        threshold = tree.threshold\n",
    "        if x[tree.feature_index] <= threshold:\n",
    "            return self.make_prediction(x,tree.left)\n",
    "        else:\n",
    "            return self.make_prediction(x,tree.right)\n"
   ]
  },
  {
   "cell_type": "markdown",
   "id": "1a887a93-ea73-4e70-bbef-f26ad672fad5",
   "metadata": {},
   "source": [
    "# Random Forests"
   ]
  },
  {
   "cell_type": "code",
   "execution_count": 26,
   "id": "878967db-7e9d-483f-9f60-26b9ffadb58c",
   "metadata": {
    "tags": []
   },
   "outputs": [],
   "source": [
    "class RandomForests:\n",
    "    def __init__(self, n_trees=10, min_samples_split=2, max_depth=100, n_feats=None, is_classifier=True):\n",
    "        self.n_trees = n_trees\n",
    "        self.min_samples_split = min_samples_split\n",
    "        self.max_depth = max_depth\n",
    "        self.n_feats = n_feats\n",
    "        self.trees = []\n",
    "        self.is_classifier = is_classifier\n",
    "    \n",
    "    def bootstrap(self,x,y):\n",
    "        n_samples = x.shape[0]\n",
    "        idxs = np.random.choice(n_samples,n_samples,replace=True)\n",
    "        return x[idxs], y[idxs]\n",
    "        \n",
    "    def fit(self,x,y):\n",
    "        for _ in range(self.n_trees):\n",
    "            if self.is_classifier:\n",
    "                tree = DecisionTreeClassifier(\n",
    "                    min_samples_split=self.min_samples_split,\n",
    "                    max_depth=self.max_depth,\n",
    "                    n_feats=self.n_feats,\n",
    "                )\n",
    "            else:\n",
    "                tree = DecisionTreeRegressor(\n",
    "                    min_samples_split=self.min_samples_split,\n",
    "                    max_depth=self.max_depth,\n",
    "                    n_feats=self.n_feats\n",
    "                )\n",
    "            X_samp, y_samp = self.bootstrap(x, y)\n",
    "            tree.fit(X_samp, y_samp)\n",
    "            self.trees.append(tree)\n",
    "    def predict(self,x):\n",
    "        all_preds = np.array([tree.predict(x) for tree in self.trees])\n",
    "        all_preds = np.swapaxes(all_preds,0, 1)\n",
    "        if self.is_classifier:\n",
    "            all_preds = np.array([Counter(pred).most_common(1)[0][0] for pred in all_preds])\n",
    "        else:\n",
    "            all_preds = np.array([np.mean(pred) for pred in all_preds])\n",
    "        return all_preds"
   ]
  },
  {
   "cell_type": "markdown",
   "id": "07712546-630c-4169-a223-82a0ae654652",
   "metadata": {},
   "source": [
    "# Test Random Forests"
   ]
  },
  {
   "cell_type": "markdown",
   "id": "458e576e-c129-43ff-8865-2497ad08eb84",
   "metadata": {},
   "source": [
    "## Classification"
   ]
  },
  {
   "cell_type": "code",
   "execution_count": 27,
   "id": "411ae8f8-3945-45c0-9242-d13b0b2af0f7",
   "metadata": {
    "tags": []
   },
   "outputs": [],
   "source": [
    "df = pd.read_csv(\"./Decision_Trees/Breast_cancer_data.csv\")"
   ]
  },
  {
   "cell_type": "code",
   "execution_count": 28,
   "id": "dab5e05f-2511-459a-b9bf-b0d0e8bb81bd",
   "metadata": {
    "tags": []
   },
   "outputs": [
    {
     "data": {
      "text/html": [
       "<div>\n",
       "<style scoped>\n",
       "    .dataframe tbody tr th:only-of-type {\n",
       "        vertical-align: middle;\n",
       "    }\n",
       "\n",
       "    .dataframe tbody tr th {\n",
       "        vertical-align: top;\n",
       "    }\n",
       "\n",
       "    .dataframe thead th {\n",
       "        text-align: right;\n",
       "    }\n",
       "</style>\n",
       "<table border=\"1\" class=\"dataframe\">\n",
       "  <thead>\n",
       "    <tr style=\"text-align: right;\">\n",
       "      <th></th>\n",
       "      <th>mean_radius</th>\n",
       "      <th>mean_texture</th>\n",
       "      <th>mean_perimeter</th>\n",
       "      <th>mean_area</th>\n",
       "      <th>mean_smoothness</th>\n",
       "      <th>diagnosis</th>\n",
       "    </tr>\n",
       "  </thead>\n",
       "  <tbody>\n",
       "    <tr>\n",
       "      <th>0</th>\n",
       "      <td>17.99</td>\n",
       "      <td>10.38</td>\n",
       "      <td>122.80</td>\n",
       "      <td>1001.0</td>\n",
       "      <td>0.11840</td>\n",
       "      <td>0</td>\n",
       "    </tr>\n",
       "    <tr>\n",
       "      <th>1</th>\n",
       "      <td>20.57</td>\n",
       "      <td>17.77</td>\n",
       "      <td>132.90</td>\n",
       "      <td>1326.0</td>\n",
       "      <td>0.08474</td>\n",
       "      <td>0</td>\n",
       "    </tr>\n",
       "    <tr>\n",
       "      <th>2</th>\n",
       "      <td>19.69</td>\n",
       "      <td>21.25</td>\n",
       "      <td>130.00</td>\n",
       "      <td>1203.0</td>\n",
       "      <td>0.10960</td>\n",
       "      <td>0</td>\n",
       "    </tr>\n",
       "    <tr>\n",
       "      <th>3</th>\n",
       "      <td>11.42</td>\n",
       "      <td>20.38</td>\n",
       "      <td>77.58</td>\n",
       "      <td>386.1</td>\n",
       "      <td>0.14250</td>\n",
       "      <td>0</td>\n",
       "    </tr>\n",
       "    <tr>\n",
       "      <th>4</th>\n",
       "      <td>20.29</td>\n",
       "      <td>14.34</td>\n",
       "      <td>135.10</td>\n",
       "      <td>1297.0</td>\n",
       "      <td>0.10030</td>\n",
       "      <td>0</td>\n",
       "    </tr>\n",
       "  </tbody>\n",
       "</table>\n",
       "</div>"
      ],
      "text/plain": [
       "   mean_radius  mean_texture  mean_perimeter  mean_area  mean_smoothness  \\\n",
       "0        17.99         10.38          122.80     1001.0          0.11840   \n",
       "1        20.57         17.77          132.90     1326.0          0.08474   \n",
       "2        19.69         21.25          130.00     1203.0          0.10960   \n",
       "3        11.42         20.38           77.58      386.1          0.14250   \n",
       "4        20.29         14.34          135.10     1297.0          0.10030   \n",
       "\n",
       "   diagnosis  \n",
       "0          0  \n",
       "1          0  \n",
       "2          0  \n",
       "3          0  \n",
       "4          0  "
      ]
     },
     "execution_count": 28,
     "metadata": {},
     "output_type": "execute_result"
    }
   ],
   "source": [
    "df.head()"
   ]
  },
  {
   "cell_type": "code",
   "execution_count": 29,
   "id": "775406e1-3b26-438b-8f4b-854b61a2c3cd",
   "metadata": {
    "tags": []
   },
   "outputs": [],
   "source": [
    "X = df.iloc[:, :-1].values\n",
    "Y = df.iloc[:, -1].values.reshape(-1,1)\n",
    "X_train, X_test, Y_train, Y_test = train_test_split(X, Y, test_size=.2, random_state=41)"
   ]
  },
  {
   "cell_type": "code",
   "execution_count": 33,
   "id": "4746972e-e221-415a-b620-cc3ebec7e195",
   "metadata": {
    "tags": []
   },
   "outputs": [],
   "source": [
    "n_feats = np.sqrt(X_train.shape[1])"
   ]
  },
  {
   "cell_type": "code",
   "execution_count": 34,
   "id": "fa3cbc69-e4cc-4d76-815f-9b8ad0d865f5",
   "metadata": {
    "tags": []
   },
   "outputs": [
    {
     "data": {
      "text/plain": [
       "(2.23606797749979, 5)"
      ]
     },
     "execution_count": 34,
     "metadata": {},
     "output_type": "execute_result"
    }
   ],
   "source": [
    "n_feats, X.shape[1]"
   ]
  },
  {
   "cell_type": "code",
   "execution_count": 37,
   "id": "325cdc94-bc44-4049-9686-7de9f8896c3e",
   "metadata": {
    "tags": []
   },
   "outputs": [],
   "source": [
    "my_classifier = RandomForests(min_samples_split=3, max_depth=3,n_trees=5, n_feats=int(n_feats))\n",
    "my_classifier.fit(X_train,Y_train)"
   ]
  },
  {
   "cell_type": "code",
   "execution_count": 38,
   "id": "256dc4e1-96a3-4582-aa45-38cdd0cb8aaa",
   "metadata": {
    "tags": []
   },
   "outputs": [
    {
     "data": {
      "text/plain": [
       "0.9298245614035088"
      ]
     },
     "execution_count": 38,
     "metadata": {},
     "output_type": "execute_result"
    }
   ],
   "source": [
    "Y_pred = my_classifier.predict(X_test) \n",
    "accuracy_score(Y_test, Y_pred)"
   ]
  },
  {
   "cell_type": "markdown",
   "id": "462dc0ce-87ee-4864-8a87-b838f7c6b2dd",
   "metadata": {},
   "source": [
    "### Sklearn"
   ]
  },
  {
   "cell_type": "code",
   "execution_count": 42,
   "id": "57ba103a-baed-42fc-bee1-cfb870c4799f",
   "metadata": {
    "tags": []
   },
   "outputs": [
    {
     "name": "stderr",
     "output_type": "stream",
     "text": [
      "C:\\Users\\001\\anaconda3\\envs\\py310\\lib\\site-packages\\sklearn\\base.py:1152: DataConversionWarning: A column-vector y was passed when a 1d array was expected. Please change the shape of y to (n_samples,), for example using ravel().\n",
      "  return fit_method(estimator, *args, **kwargs)\n"
     ]
    },
    {
     "data": {
      "text/plain": [
       "0.9385964912280702"
      ]
     },
     "execution_count": 42,
     "metadata": {},
     "output_type": "execute_result"
    }
   ],
   "source": [
    "sklearn_rf_clf = RandomForestClassifier(n_estimators=5, criterion='entropy', max_depth=3, min_samples_split=3)\n",
    "sklearn_rf_clf.fit(X_train,Y_train)\n",
    "sklearn_clf_preds = sklearn_rf_clf.predict(X_test)\n",
    "accuracy_score(Y_test, sklearn_clf_preds)"
   ]
  },
  {
   "cell_type": "markdown",
   "id": "d26b90e4-085d-48ff-9b2f-be0a6fe461dd",
   "metadata": {},
   "source": [
    "## Regression"
   ]
  },
  {
   "cell_type": "code",
   "execution_count": 43,
   "id": "1a2e56a9-2b79-477a-a50d-897b78a6551a",
   "metadata": {
    "tags": []
   },
   "outputs": [
    {
     "data": {
      "text/html": [
       "<div>\n",
       "<style scoped>\n",
       "    .dataframe tbody tr th:only-of-type {\n",
       "        vertical-align: middle;\n",
       "    }\n",
       "\n",
       "    .dataframe tbody tr th {\n",
       "        vertical-align: top;\n",
       "    }\n",
       "\n",
       "    .dataframe thead th {\n",
       "        text-align: right;\n",
       "    }\n",
       "</style>\n",
       "<table border=\"1\" class=\"dataframe\">\n",
       "  <thead>\n",
       "    <tr style=\"text-align: right;\">\n",
       "      <th></th>\n",
       "      <th>x0</th>\n",
       "      <th>x1</th>\n",
       "      <th>x2</th>\n",
       "      <th>x3</th>\n",
       "      <th>x4</th>\n",
       "      <th>y</th>\n",
       "    </tr>\n",
       "  </thead>\n",
       "  <tbody>\n",
       "    <tr>\n",
       "      <th>0</th>\n",
       "      <td>800</td>\n",
       "      <td>0.0</td>\n",
       "      <td>0.3048</td>\n",
       "      <td>71.3</td>\n",
       "      <td>0.002663</td>\n",
       "      <td>126.201</td>\n",
       "    </tr>\n",
       "    <tr>\n",
       "      <th>1</th>\n",
       "      <td>1000</td>\n",
       "      <td>0.0</td>\n",
       "      <td>0.3048</td>\n",
       "      <td>71.3</td>\n",
       "      <td>0.002663</td>\n",
       "      <td>125.201</td>\n",
       "    </tr>\n",
       "    <tr>\n",
       "      <th>2</th>\n",
       "      <td>1250</td>\n",
       "      <td>0.0</td>\n",
       "      <td>0.3048</td>\n",
       "      <td>71.3</td>\n",
       "      <td>0.002663</td>\n",
       "      <td>125.951</td>\n",
       "    </tr>\n",
       "    <tr>\n",
       "      <th>3</th>\n",
       "      <td>1600</td>\n",
       "      <td>0.0</td>\n",
       "      <td>0.3048</td>\n",
       "      <td>71.3</td>\n",
       "      <td>0.002663</td>\n",
       "      <td>127.591</td>\n",
       "    </tr>\n",
       "    <tr>\n",
       "      <th>4</th>\n",
       "      <td>2000</td>\n",
       "      <td>0.0</td>\n",
       "      <td>0.3048</td>\n",
       "      <td>71.3</td>\n",
       "      <td>0.002663</td>\n",
       "      <td>127.461</td>\n",
       "    </tr>\n",
       "  </tbody>\n",
       "</table>\n",
       "</div>"
      ],
      "text/plain": [
       "     x0   x1      x2    x3        x4        y\n",
       "0   800  0.0  0.3048  71.3  0.002663  126.201\n",
       "1  1000  0.0  0.3048  71.3  0.002663  125.201\n",
       "2  1250  0.0  0.3048  71.3  0.002663  125.951\n",
       "3  1600  0.0  0.3048  71.3  0.002663  127.591\n",
       "4  2000  0.0  0.3048  71.3  0.002663  127.461"
      ]
     },
     "execution_count": 43,
     "metadata": {},
     "output_type": "execute_result"
    }
   ],
   "source": [
    "df = pd.read_csv(\"./Decision_Trees/airfoil_noise_data.csv\")\n",
    "df.head()"
   ]
  },
  {
   "cell_type": "code",
   "execution_count": 44,
   "id": "4cf609ff-b6e2-4e07-ac04-a4d6015c1714",
   "metadata": {
    "tags": []
   },
   "outputs": [],
   "source": [
    "X = df.iloc[:, :-1].values\n",
    "Y = df.iloc[:, -1].values.reshape(-1,1)\n",
    "X_train, X_test, Y_train, Y_test = train_test_split(X, Y, test_size=.2, random_state=41)"
   ]
  },
  {
   "cell_type": "code",
   "execution_count": 46,
   "id": "56d79f68-d221-447e-b329-2f647e7adf79",
   "metadata": {
    "tags": []
   },
   "outputs": [],
   "source": [
    "n_feats = np.sqrt(X_train.shape[1])"
   ]
  },
  {
   "cell_type": "code",
   "execution_count": 47,
   "id": "e9b9ef81-cff0-416a-9240-94f02d9c0a46",
   "metadata": {
    "tags": []
   },
   "outputs": [
    {
     "data": {
      "text/plain": [
       "(2.23606797749979, 5)"
      ]
     },
     "execution_count": 47,
     "metadata": {},
     "output_type": "execute_result"
    }
   ],
   "source": [
    "n_feats,X.shape[1]"
   ]
  },
  {
   "cell_type": "code",
   "execution_count": 48,
   "id": "8d167ce7-7b60-419b-9b78-483c9749bf29",
   "metadata": {
    "tags": []
   },
   "outputs": [],
   "source": [
    "my_regressor = RandomForests(min_samples_split=3, max_depth=3,n_trees=5, n_feats=int(n_feats),is_classifier=False)\n",
    "my_regressor.fit(X_train,Y_train)"
   ]
  },
  {
   "cell_type": "code",
   "execution_count": 50,
   "id": "99e5e3fc-109b-4aa3-9315-6c6b092f28df",
   "metadata": {
    "tags": []
   },
   "outputs": [
    {
     "data": {
      "text/plain": [
       "20.834140870775546"
      ]
     },
     "execution_count": 50,
     "metadata": {},
     "output_type": "execute_result"
    }
   ],
   "source": [
    "Y_pred = my_regressor.predict(X_test) \n",
    "mean_squared_error(Y_test,Y_pred)"
   ]
  },
  {
   "cell_type": "markdown",
   "id": "5cc58f8d-249f-43ac-805f-3b4eab8c7224",
   "metadata": {},
   "source": [
    "### Sklearn"
   ]
  },
  {
   "cell_type": "code",
   "execution_count": 51,
   "id": "8828ae80-fa84-496a-bb60-4b3058664ae0",
   "metadata": {
    "tags": []
   },
   "outputs": [
    {
     "name": "stderr",
     "output_type": "stream",
     "text": [
      "C:\\Users\\001\\anaconda3\\envs\\py310\\lib\\site-packages\\sklearn\\base.py:1152: DataConversionWarning: A column-vector y was passed when a 1d array was expected. Please change the shape of y to (n_samples,), for example using ravel().\n",
      "  return fit_method(estimator, *args, **kwargs)\n"
     ]
    },
    {
     "data": {
      "text/plain": [
       "24.533940655721107"
      ]
     },
     "execution_count": 51,
     "metadata": {},
     "output_type": "execute_result"
    }
   ],
   "source": [
    "sklearn_rf_reg = RandomForestRegressor(n_estimators=5, max_depth=3, min_samples_split=3)\n",
    "sklearn_rf_reg.fit(X_train,Y_train)\n",
    "sklearn_reg_preds = sklearn_rf_reg.predict(X_test)\n",
    "mean_squared_error(Y_test, sklearn_reg_preds)"
   ]
  },
  {
   "cell_type": "code",
   "execution_count": null,
   "id": "688c89cd-a8a4-43ff-8c9e-c8da6e36b222",
   "metadata": {},
   "outputs": [],
   "source": []
  }
 ],
 "metadata": {
  "kernelspec": {
   "display_name": "gpu",
   "language": "python",
   "name": "gpu"
  },
  "language_info": {
   "codemirror_mode": {
    "name": "ipython",
    "version": 3
   },
   "file_extension": ".py",
   "mimetype": "text/x-python",
   "name": "python",
   "nbconvert_exporter": "python",
   "pygments_lexer": "ipython3",
   "version": "3.10.13"
  }
 },
 "nbformat": 4,
 "nbformat_minor": 5
}
