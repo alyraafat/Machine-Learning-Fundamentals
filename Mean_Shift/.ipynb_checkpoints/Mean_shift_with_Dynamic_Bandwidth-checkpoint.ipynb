{
 "cells": [
  {
   "cell_type": "code",
   "execution_count": 1,
   "id": "bf22d914-e086-4526-99fb-2c62b04de658",
   "metadata": {
    "tags": []
   },
   "outputs": [],
   "source": [
    "import numpy as np\n",
    "import matplotlib.pyplot as plt\n",
    "import pandas as pd\n",
    "import seaborn as sns\n",
    "from sklearn.preprocessing import StandardScaler\n",
    "from sklearn.datasets import make_blobs\n",
    "from sklearn.model_selection import train_test_split\n",
    "from sklearn.metrics import adjusted_rand_score , silhouette_score\n",
    "from sklearn.cluster import MeanShift"
   ]
  },
  {
   "cell_type": "markdown",
   "id": "56cd3eea-4a89-4125-bb9a-d07caa33e66f",
   "metadata": {},
   "source": [
    "# Mean Shift With Dynamic Bandwidth from scratch"
   ]
  },
  {
   "cell_type": "code",
   "execution_count": 48,
   "id": "ee217ad8-6227-4092-85b5-f39e7fe3263b",
   "metadata": {
    "tags": []
   },
   "outputs": [
    {
     "data": {
      "text/plain": [
       "array([ -4496.04510758, -19664.32449355])"
      ]
     },
     "execution_count": 48,
     "metadata": {},
     "output_type": "execute_result"
    }
   ],
   "source": [
    "np.array((-4496.045107576282, -19664.3244935471))"
   ]
  },
  {
   "cell_type": "code",
   "execution_count": 125,
   "id": "cd62060a-1a4a-48d8-894c-7528a4addaa1",
   "metadata": {
    "tags": []
   },
   "outputs": [],
   "source": [
    "class My_MeanShiftDynamicBandwidth:\n",
    "    def __init__(self,radius=None, radius_norm_step=100):\n",
    "        self.radius = radius\n",
    "        self.radius_norm_step = radius_norm_step\n",
    "    \n",
    "    def is_convergence(self,new_centroids,old_centroids):\n",
    "        for i in range(len(new_centroids)):\n",
    "            if not np.array_equal(np.array(new_centroids[i]),np.array(old_centroids[i])):\n",
    "                return False\n",
    "        return True\n",
    "    \n",
    "    def remove_close_centroids(self,centroids):\n",
    "        to_pop = []\n",
    "        # print(centroids)\n",
    "        for c1 in centroids:\n",
    "            if c1 in to_pop: \n",
    "                continue \n",
    "            for c2 in centroids:\n",
    "                if c1==c2 or c2 in to_pop:\n",
    "                    continue\n",
    "                if np.linalg.norm(np.array(c1)-np.array(c2))<=self.radius:\n",
    "                    to_pop.append(c2)\n",
    "                    break\n",
    "        # print(to_pop)\n",
    "        for i in to_pop:\n",
    "            centroids.remove(i)\n",
    "            # print(len(centroids))\n",
    "        return centroids\n",
    "    \n",
    "    def fit(self,x):\n",
    "        if self.radius is None:\n",
    "            mean_data = np.mean(x,axis=0)\n",
    "            data_radius = np.linalg.norm(mean_data)\n",
    "            self.radius = data_radius/self.radius_norm_step\n",
    "        \n",
    "        centroids = []\n",
    "        for xi in x:\n",
    "            centroids.append(tuple(xi))\n",
    "        centroids = np.array(sorted(list(set(centroids))))\n",
    "        weights = [i**2 for i in range(self.radius_norm_step)][::-1]\n",
    "        while True:\n",
    "            new_centroids = []\n",
    "            for centroid in centroids:\n",
    "                curr_cluster = []\n",
    "                for xi in x:\n",
    "                    distance = np.linalg.norm(xi-centroid)\n",
    "                    if distance == 0:\n",
    "                        distance = 0.00000000001\n",
    "                    weight_idx = int(distance/self.radius)\n",
    "                    if weight_idx > self.radius_norm_step-1:\n",
    "                        weight_idx = self.radius_norm_step-1\n",
    "                    weighted_feature = (weights[weight_idx])*xi\n",
    "                    curr_cluster.append(weighted_feature)\n",
    "                curr_cluster = np.array(curr_cluster)\n",
    "                new_centroid = np.mean(curr_cluster,axis=0)\n",
    "                new_centroids.append(tuple(new_centroid))\n",
    "            new_centroids_unique = sorted(list(set(new_centroids)))\n",
    "            # print(\"before: \")\n",
    "            # print( new_centroids_unique)\n",
    "            new_centroids_unique = self.remove_close_centroids(new_centroids_unique)\n",
    "            new_centroids_unique = np.array(new_centroids_unique)\n",
    "            # print(\"after: \")\n",
    "            # print(new_centroids_unique)\n",
    "            is_converged = self.is_convergence(new_centroids_unique,centroids)\n",
    "            centroids = new_centroids_unique\n",
    "            # print(\"---------------------------\")\n",
    "            if is_converged or len(centroids)==1:\n",
    "                break\n",
    "        self.centroids = centroids\n",
    "    \n",
    "    def predict(self,x):\n",
    "        y = []\n",
    "        for xi in x:\n",
    "            distances = np.sqrt(np.sum((xi-self.centroids)**2,axis=1))\n",
    "            label = np.argmin(distances)\n",
    "            y.append(label)\n",
    "        return np.array(y)\n",
    "                \n",
    "            "
   ]
  },
  {
   "cell_type": "code",
   "execution_count": 137,
   "id": "db65980e-c2f7-44dc-8332-072a4c354ffb",
   "metadata": {
    "tags": []
   },
   "outputs": [],
   "source": [
    "def plot(X,centroids):\n",
    "    fig, ax = plt.subplots(figsize=(12, 8))\n",
    "    ax.scatter(X[:,0],X[:,1],marker='o')\n",
    "    ax.scatter(centroids[:,0],centroids[:,1], marker=\"x\", c=\"red\", linewidth=4)\n",
    "    plt.show()"
   ]
  }
 ],
 "metadata": {
  "kernelspec": {
   "display_name": "gpu",
   "language": "python",
   "name": "gpu"
  },
  "language_info": {
   "codemirror_mode": {
    "name": "ipython",
    "version": 3
   },
   "file_extension": ".py",
   "mimetype": "text/x-python",
   "name": "python",
   "nbconvert_exporter": "python",
   "pygments_lexer": "ipython3",
   "version": "3.10.13"
  }
 },
 "nbformat": 4,
 "nbformat_minor": 5
}
