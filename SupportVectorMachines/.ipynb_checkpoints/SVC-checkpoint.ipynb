{
 "cells": [
  {
   "cell_type": "code",
   "execution_count": 1,
   "id": "039f25ca-3b29-45c3-b195-f4e4b4a9e394",
   "metadata": {
    "tags": []
   },
   "outputs": [],
   "source": [
    "import numpy as np"
   ]
  },
  {
   "cell_type": "code",
   "execution_count": 2,
   "id": "faa0cdad-5227-4361-8114-12e17866fbf9",
   "metadata": {
    "tags": []
   },
   "outputs": [
    {
     "ename": "SyntaxError",
     "evalue": "incomplete input (347902313.py, line 1)",
     "output_type": "error",
     "traceback": [
      "\u001b[1;36m  Cell \u001b[1;32mIn[2], line 1\u001b[1;36m\u001b[0m\n\u001b[1;33m    class SoftMarginSVM:\u001b[0m\n\u001b[1;37m                        ^\u001b[0m\n\u001b[1;31mSyntaxError\u001b[0m\u001b[1;31m:\u001b[0m incomplete input\n"
     ]
    }
   ],
   "source": [
    "class SoftMarginSVC:\n",
    "    def __init__(self):\n",
    "        self.w = None\n",
    "        self.b = None\n",
    "        \n",
    "    def linear_output(self,xi):\n",
    "        return self.w.T @ xi + self.b\n",
    "    \n",
    "    def hinge_loss(self,y_true,y_pred):\n",
    "        return max(0,1-y_true*y_pred)\n",
    "    \n",
    "    def loss(self,y_true,y_pred):\n",
    "        reg = 0.5 * self.w.T @ self.w\n",
    "        hinge = self.hinge_loss(y_true,y_pred)\n",
    "        return reg+self.C*hinge\n",
    "    \n",
    "    def fit(self,X,y,lr=0.01,C=1.0,epochs=1000):\n",
    "        self.C = C\n",
    "        n_samples,n_features = X\n",
    "        y[y==0] = -1\n",
    "        self.b = 0\n",
    "        self.w = np.random.randn(n_samples,1)\n",
    "        losses=[]\n",
    "        for epoch in epochs:\n",
    "            losses_per_epoch=0\n",
    "            for i,xi in enumerate(X):\n",
    "                y_pred = self.linear_output(xi)\n",
    "                functional_margin = y[i]*y_pred\n",
    "                loss_val = self.loss(y[i],y_pred)\n",
    "                losses_per_epoch+=loss_val\n",
    "                if functional_margin>=1:\n",
    "                    dw = w\n",
    "                    db = 0\n",
    "                else:\n",
    "                    dw = w - C*y[i]*xi\n",
    "                    db = - C*y[i]\n",
    "                self.w -= lr*dw\n",
    "                self.b -= lr*db\n",
    "            losses_per_epoch/=len(X)\n",
    "            losses.append(losses_per_epoch)\n",
    "            print(f\"epoch {epoch}: loss = {losses_per_epoch}\")\n",
    "        return losses\n",
    "    def predict(self,X):\n",
    "        return self.linear_output(X)==-1?0:1"
   ]
  },
  {
   "cell_type": "code",
   "execution_count": null,
   "id": "a6680e1e-72ae-4f09-941e-ebd7850da58f",
   "metadata": {},
   "outputs": [],
   "source": []
  }
 ],
 "metadata": {
  "kernelspec": {
   "display_name": "gpu",
   "language": "python",
   "name": "gpu"
  },
  "language_info": {
   "codemirror_mode": {
    "name": "ipython",
    "version": 3
   },
   "file_extension": ".py",
   "mimetype": "text/x-python",
   "name": "python",
   "nbconvert_exporter": "python",
   "pygments_lexer": "ipython3",
   "version": "3.10.13"
  }
 },
 "nbformat": 4,
 "nbformat_minor": 5
}
