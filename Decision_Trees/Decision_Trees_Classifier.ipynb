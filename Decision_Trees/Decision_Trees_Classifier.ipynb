{
 "cells": [
  {
   "cell_type": "code",
   "execution_count": 1,
   "id": "fd664e47-d21e-48ce-a88e-dd926c0f80b8",
   "metadata": {
    "tags": []
   },
   "outputs": [],
   "source": [
    "import numpy as np\n",
    "import pandas as pd\n",
    "from collections import Counter\n",
    "from sklearn.model_selection import train_test_split\n",
    "from sklearn.metrics import accuracy_score\n",
    "from sklearn.tree import DecisionTreeClassifier"
   ]
  },
  {
   "cell_type": "code",
   "execution_count": 2,
   "id": "a226a221-7e30-437e-862b-51d9583b1d31",
   "metadata": {
    "tags": []
   },
   "outputs": [],
   "source": [
    "df = pd.read_csv(\"Breast_cancer_data.csv\")"
   ]
  },
  {
   "cell_type": "code",
   "execution_count": 3,
   "id": "6afddb08-dd74-45a6-a328-24070f7b9b76",
   "metadata": {
    "tags": []
   },
   "outputs": [
    {
     "data": {
      "text/html": [
       "<div>\n",
       "<style scoped>\n",
       "    .dataframe tbody tr th:only-of-type {\n",
       "        vertical-align: middle;\n",
       "    }\n",
       "\n",
       "    .dataframe tbody tr th {\n",
       "        vertical-align: top;\n",
       "    }\n",
       "\n",
       "    .dataframe thead th {\n",
       "        text-align: right;\n",
       "    }\n",
       "</style>\n",
       "<table border=\"1\" class=\"dataframe\">\n",
       "  <thead>\n",
       "    <tr style=\"text-align: right;\">\n",
       "      <th></th>\n",
       "      <th>mean_radius</th>\n",
       "      <th>mean_texture</th>\n",
       "      <th>mean_perimeter</th>\n",
       "      <th>mean_area</th>\n",
       "      <th>mean_smoothness</th>\n",
       "      <th>diagnosis</th>\n",
       "    </tr>\n",
       "  </thead>\n",
       "  <tbody>\n",
       "    <tr>\n",
       "      <th>0</th>\n",
       "      <td>17.99</td>\n",
       "      <td>10.38</td>\n",
       "      <td>122.80</td>\n",
       "      <td>1001.0</td>\n",
       "      <td>0.11840</td>\n",
       "      <td>0</td>\n",
       "    </tr>\n",
       "    <tr>\n",
       "      <th>1</th>\n",
       "      <td>20.57</td>\n",
       "      <td>17.77</td>\n",
       "      <td>132.90</td>\n",
       "      <td>1326.0</td>\n",
       "      <td>0.08474</td>\n",
       "      <td>0</td>\n",
       "    </tr>\n",
       "    <tr>\n",
       "      <th>2</th>\n",
       "      <td>19.69</td>\n",
       "      <td>21.25</td>\n",
       "      <td>130.00</td>\n",
       "      <td>1203.0</td>\n",
       "      <td>0.10960</td>\n",
       "      <td>0</td>\n",
       "    </tr>\n",
       "    <tr>\n",
       "      <th>3</th>\n",
       "      <td>11.42</td>\n",
       "      <td>20.38</td>\n",
       "      <td>77.58</td>\n",
       "      <td>386.1</td>\n",
       "      <td>0.14250</td>\n",
       "      <td>0</td>\n",
       "    </tr>\n",
       "    <tr>\n",
       "      <th>4</th>\n",
       "      <td>20.29</td>\n",
       "      <td>14.34</td>\n",
       "      <td>135.10</td>\n",
       "      <td>1297.0</td>\n",
       "      <td>0.10030</td>\n",
       "      <td>0</td>\n",
       "    </tr>\n",
       "  </tbody>\n",
       "</table>\n",
       "</div>"
      ],
      "text/plain": [
       "   mean_radius  mean_texture  mean_perimeter  mean_area  mean_smoothness  \\\n",
       "0        17.99         10.38          122.80     1001.0          0.11840   \n",
       "1        20.57         17.77          132.90     1326.0          0.08474   \n",
       "2        19.69         21.25          130.00     1203.0          0.10960   \n",
       "3        11.42         20.38           77.58      386.1          0.14250   \n",
       "4        20.29         14.34          135.10     1297.0          0.10030   \n",
       "\n",
       "   diagnosis  \n",
       "0          0  \n",
       "1          0  \n",
       "2          0  \n",
       "3          0  \n",
       "4          0  "
      ]
     },
     "execution_count": 3,
     "metadata": {},
     "output_type": "execute_result"
    }
   ],
   "source": [
    "df.head()"
   ]
  },
  {
   "cell_type": "code",
   "execution_count": 4,
   "id": "57e1a9cc-e70d-4a46-9fc1-88d84dde5231",
   "metadata": {
    "tags": []
   },
   "outputs": [],
   "source": [
    "X = df.iloc[:, :-1].values\n",
    "Y = df.iloc[:, -1].values.reshape(-1,1)\n",
    "X_train, X_test, Y_train, Y_test = train_test_split(X, Y, test_size=.2, random_state=41)"
   ]
  },
  {
   "cell_type": "code",
   "execution_count": 5,
   "id": "9826e5ad-31c6-4110-a120-376b7572c8ab",
   "metadata": {
    "tags": []
   },
   "outputs": [
    {
     "data": {
      "text/plain": [
       "((455, 5), (455, 1))"
      ]
     },
     "execution_count": 5,
     "metadata": {},
     "output_type": "execute_result"
    }
   ],
   "source": [
    "X_train.shape,Y_train.shape"
   ]
  },
  {
   "cell_type": "markdown",
   "id": "97349f2e-df04-4f39-837d-475cbf0b8360",
   "metadata": {},
   "source": [
    "# Decision Tree Classifier"
   ]
  },
  {
   "cell_type": "code",
   "execution_count": 6,
   "id": "437b10bf-2330-4311-b972-c03c196ad82b",
   "metadata": {
    "tags": []
   },
   "outputs": [],
   "source": [
    "class Node():\n",
    "    def __init__(self, feature_index=None, threshold=None, left=None, right=None, info_gain=None, value=None):        # for decision node\n",
    "        self.feature_index = feature_index\n",
    "        self.threshold = threshold\n",
    "        self.left = left\n",
    "        self.right = right\n",
    "        self.info_gain = info_gain\n",
    "        \n",
    "        # for leaf node\n",
    "        self.value = value"
   ]
  },
  {
   "cell_type": "code",
   "execution_count": 11,
   "id": "20124b63-01bc-4d2a-9a20-fe00e5d445ee",
   "metadata": {},
   "outputs": [],
   "source": [
    "class DecisionTreeClassifier:\n",
    "    def __init__(self, min_samples_split=2, max_depth=2, n_feats=None,mode=\"entropy\"):\n",
    "        self.root = None\n",
    "        # stopping conditions for regularization\n",
    "        self.min_samples_split = min_samples_split\n",
    "        self.max_depth = max_depth\n",
    "        self.n_feats = n_feats\n",
    "        self.mode=mode\n",
    "    \n",
    "    def fit(self,X,y):\n",
    "        dataset = np.concatenate((X,y),axis=1)\n",
    "        self.root = self.build_tree(dataset)\n",
    "    \n",
    "    def information_gain(self,parent,left,right):\n",
    "        weight_l = len(left)/len(parent)\n",
    "        weight_r = len(right)/len(parent)\n",
    "        if self.mode==\"gini\":\n",
    "            info_gain = self.gini_index(parent)-(weight_l*self.gini_index(left)+weight_r*self.gini_index(right))\n",
    "        else:\n",
    "            info_gain = self.entropy(parent)-(weight_l*self.entropy(left)+weight_r*self.entropy(right))\n",
    "        \n",
    "        return info_gain\n",
    "        \n",
    "    def entropy(self,y):\n",
    "        entropy=0\n",
    "        classes = np.unique(y)\n",
    "        for c in classes:\n",
    "            prob = len(y[y==c])/len(y)\n",
    "            entropy += -prob*np.log2(prob)\n",
    "        return entropy\n",
    "    \n",
    "    def gini_index(self,y):\n",
    "        gini=0\n",
    "        classes = np.unique(y)\n",
    "        for c in classes:\n",
    "            prob = len(y[y==c])/len(y)\n",
    "            gini += prob**2\n",
    "        return 1-gini\n",
    "    \n",
    "    def calculate_leaf_value(self, y):\n",
    "        max_y = Counter(y).most_common(1)[0][0]\n",
    "        return max_y\n",
    "        \n",
    "    def build_tree(self,dataset,curr_depth=0):\n",
    "        x = dataset[:,:-1]\n",
    "        y = dataset[:,-1]\n",
    "        n_labels = len(np.unique(y))\n",
    "        num_examples,num_features=x.shape\n",
    "        \n",
    "        if curr_depth<=self.max_depth and n_labels > 1 and num_features>=self.min_samples_split:\n",
    "            if self.n_feats is None:\n",
    "                feat_idxs = np.arange(num_features)\n",
    "            else:\n",
    "                feat_idxs = np.random.choice(n_features, self.n_feats, replace=False)\n",
    "\n",
    "            best_split=self.get_best_split(dataset,num_examples,feat_idxs)\n",
    "            if best_split!={} and best_split[\"info_gain\"]>0:\n",
    "                feature_index=best_split[\"feature_index\"]\n",
    "                threshold=best_split[\"threshold\"]\n",
    "                left=best_split[\"left\"] \n",
    "                right=best_split[\"right\"]\n",
    "                info_gain=best_split[\"info_gain\"]\n",
    "                left_subtree=self.build_tree(left,curr_depth+1)\n",
    "                right_subtree=self.build_tree(right,curr_depth+1)\n",
    "                return Node(feature_index,threshold,left_subtree,right_subtree,info_gain)\n",
    "        leaf_val=self.calculate_leaf_value(y)\n",
    "        return Node(value=leaf_val)\n",
    "\n",
    "    def get_best_split(self,dataset,num_examples,feat_idxs):\n",
    "        best_split = {}\n",
    "        y = dataset[:,-1]\n",
    "        max_gain= -float(\"inf\")\n",
    "        for feature_index in feat_idxs:\n",
    "            feature_vector = dataset[:,feature_index]\n",
    "            thresholds = np.unique(feature_vector)\n",
    "            for threshold in thresholds:\n",
    "                dataset_left,dataset_right = self.split(dataset,feature_index,threshold)\n",
    "                if len(dataset_left)>0 and len(dataset_right)>0:\n",
    "                    y_left, y_right = dataset_left[:,-1],dataset_right[:,-1]\n",
    "                    curr_gain = self.information_gain(y,y_left,y_right)\n",
    "                    if max_gain<curr_gain:\n",
    "                        best_split[\"feature_index\"] = feature_index\n",
    "                        best_split[\"threshold\"] = threshold\n",
    "                        best_split[\"left\"] =dataset_left\n",
    "                        best_split[\"right\"]=dataset_right\n",
    "                        best_split[\"info_gain\"] = curr_gain\n",
    "                        max_gain=curr_gain\n",
    "        return best_split\n",
    "    \n",
    "    def split(self,dataset,feature_index,threshold):\n",
    "        dataset_left = np.array([row for row in dataset if row[feature_index]<=threshold])\n",
    "        dataset_right = np.array([row for row in dataset if row[feature_index]>threshold])\n",
    "        return dataset_left, dataset_right\n",
    "    \n",
    "    def print_tree(self,tree=None, indent=\" \"):\n",
    "        \n",
    "        if tree==None:\n",
    "            tree=self.root\n",
    "        \n",
    "        if tree.value is None:\n",
    "            print(\"X_\"+str(tree.feature_index), \"<=\", tree.threshold, \"? info_gain: \", tree.info_gain)\n",
    "            print(\"%sleft:\" % (indent), end=\"\")\n",
    "            self.print_tree(tree.left, indent + indent)\n",
    "            print(\"%sright:\" % (indent), end=\"\")\n",
    "            self.print_tree(tree.right, indent + indent)\n",
    "        else:\n",
    "            print(tree.value)\n",
    "    \n",
    "    def predict(self,x):\n",
    "        \n",
    "        preds = np.array([self.make_prediction(xi,self.root) for xi in x])\n",
    "        return preds\n",
    "    \n",
    "    def make_prediction(self,x,tree):\n",
    "        if tree.value is not None:\n",
    "            return tree.value\n",
    "        threshold = tree.threshold\n",
    "        if x[tree.feature_index] <= threshold:\n",
    "            return self.make_prediction(x,tree.left)\n",
    "        else:\n",
    "            return self.make_prediction(x,tree.right)\n"
   ]
  },
  {
   "cell_type": "code",
   "execution_count": 12,
   "id": "3762c967-3fba-4b34-9125-b89844b0c579",
   "metadata": {},
   "outputs": [
    {
     "name": "stdout",
     "output_type": "stream",
     "text": [
      "X_3 <= 693.7 ? info_gain:  0.448310812827168\n",
      " left:X_2 <= 85.24 ? info_gain:  0.10221759320577894\n",
      "  left:X_4 <= 0.1089 ? info_gain:  0.06443999390821445\n",
      "    left:X_3 <= 428.9 ? info_gain:  0.020516822530924364\n",
      "        left:1.0\n",
      "        right:1.0\n",
      "    right:X_1 <= 15.45 ? info_gain:  0.18290734961907618\n",
      "        left:1.0\n",
      "        right:1.0\n",
      "  right:X_4 <= 0.09423 ? info_gain:  0.24150425716692725\n",
      "    left:X_1 <= 19.24 ? info_gain:  0.10768309722841801\n",
      "        left:1.0\n",
      "        right:1.0\n",
      "    right:X_1 <= 20.21 ? info_gain:  0.32458258240283355\n",
      "        left:1.0\n",
      "        right:0.0\n",
      " right:X_1 <= 16.07 ? info_gain:  0.11955266514846788\n",
      "  left:X_0 <= 17.85 ? info_gain:  0.35998418235489427\n",
      "    left:X_4 <= 0.1043 ? info_gain:  0.45810589515712374\n",
      "        left:1.0\n",
      "        right:0.0\n",
      "    right:0.0\n",
      "  right:X_4 <= 0.07445 ? info_gain:  0.05219265141349343\n",
      "    left:1.0\n",
      "    right:X_1 <= 18.29 ? info_gain:  0.023708363107007753\n",
      "        left:0.0\n",
      "        right:0.0\n"
     ]
    }
   ],
   "source": [
    "my_classifier = DecisionTreeClassifier(min_samples_split=3, max_depth=3)\n",
    "my_classifier.fit(X_train,Y_train)\n",
    "my_classifier.print_tree()"
   ]
  },
  {
   "cell_type": "code",
   "execution_count": 13,
   "id": "f5d273ea-9bac-4e02-936b-0211b87d12de",
   "metadata": {
    "tags": []
   },
   "outputs": [
    {
     "data": {
      "text/plain": [
       "0.9473684210526315"
      ]
     },
     "execution_count": 13,
     "metadata": {},
     "output_type": "execute_result"
    }
   ],
   "source": [
    "Y_pred = my_classifier.predict(X_test) \n",
    "accuracy_score(Y_test, Y_pred)"
   ]
  },
  {
   "cell_type": "markdown",
   "id": "907d1bbd-1d1c-4818-8c02-1a7fccbb2f63",
   "metadata": {},
   "source": [
    "## Sklearn (Decision Tree)"
   ]
  },
  {
   "cell_type": "code",
   "execution_count": 30,
   "id": "20352d64-c64f-487f-b23e-925d8971e8a8",
   "metadata": {
    "tags": []
   },
   "outputs": [
    {
     "data": {
      "text/html": [
       "<style>#sk-container-id-2 {color: black;}#sk-container-id-2 pre{padding: 0;}#sk-container-id-2 div.sk-toggleable {background-color: white;}#sk-container-id-2 label.sk-toggleable__label {cursor: pointer;display: block;width: 100%;margin-bottom: 0;padding: 0.3em;box-sizing: border-box;text-align: center;}#sk-container-id-2 label.sk-toggleable__label-arrow:before {content: \"▸\";float: left;margin-right: 0.25em;color: #696969;}#sk-container-id-2 label.sk-toggleable__label-arrow:hover:before {color: black;}#sk-container-id-2 div.sk-estimator:hover label.sk-toggleable__label-arrow:before {color: black;}#sk-container-id-2 div.sk-toggleable__content {max-height: 0;max-width: 0;overflow: hidden;text-align: left;background-color: #f0f8ff;}#sk-container-id-2 div.sk-toggleable__content pre {margin: 0.2em;color: black;border-radius: 0.25em;background-color: #f0f8ff;}#sk-container-id-2 input.sk-toggleable__control:checked~div.sk-toggleable__content {max-height: 200px;max-width: 100%;overflow: auto;}#sk-container-id-2 input.sk-toggleable__control:checked~label.sk-toggleable__label-arrow:before {content: \"▾\";}#sk-container-id-2 div.sk-estimator input.sk-toggleable__control:checked~label.sk-toggleable__label {background-color: #d4ebff;}#sk-container-id-2 div.sk-label input.sk-toggleable__control:checked~label.sk-toggleable__label {background-color: #d4ebff;}#sk-container-id-2 input.sk-hidden--visually {border: 0;clip: rect(1px 1px 1px 1px);clip: rect(1px, 1px, 1px, 1px);height: 1px;margin: -1px;overflow: hidden;padding: 0;position: absolute;width: 1px;}#sk-container-id-2 div.sk-estimator {font-family: monospace;background-color: #f0f8ff;border: 1px dotted black;border-radius: 0.25em;box-sizing: border-box;margin-bottom: 0.5em;}#sk-container-id-2 div.sk-estimator:hover {background-color: #d4ebff;}#sk-container-id-2 div.sk-parallel-item::after {content: \"\";width: 100%;border-bottom: 1px solid gray;flex-grow: 1;}#sk-container-id-2 div.sk-label:hover label.sk-toggleable__label {background-color: #d4ebff;}#sk-container-id-2 div.sk-serial::before {content: \"\";position: absolute;border-left: 1px solid gray;box-sizing: border-box;top: 0;bottom: 0;left: 50%;z-index: 0;}#sk-container-id-2 div.sk-serial {display: flex;flex-direction: column;align-items: center;background-color: white;padding-right: 0.2em;padding-left: 0.2em;position: relative;}#sk-container-id-2 div.sk-item {position: relative;z-index: 1;}#sk-container-id-2 div.sk-parallel {display: flex;align-items: stretch;justify-content: center;background-color: white;position: relative;}#sk-container-id-2 div.sk-item::before, #sk-container-id-2 div.sk-parallel-item::before {content: \"\";position: absolute;border-left: 1px solid gray;box-sizing: border-box;top: 0;bottom: 0;left: 50%;z-index: -1;}#sk-container-id-2 div.sk-parallel-item {display: flex;flex-direction: column;z-index: 1;position: relative;background-color: white;}#sk-container-id-2 div.sk-parallel-item:first-child::after {align-self: flex-end;width: 50%;}#sk-container-id-2 div.sk-parallel-item:last-child::after {align-self: flex-start;width: 50%;}#sk-container-id-2 div.sk-parallel-item:only-child::after {width: 0;}#sk-container-id-2 div.sk-dashed-wrapped {border: 1px dashed gray;margin: 0 0.4em 0.5em 0.4em;box-sizing: border-box;padding-bottom: 0.4em;background-color: white;}#sk-container-id-2 div.sk-label label {font-family: monospace;font-weight: bold;display: inline-block;line-height: 1.2em;}#sk-container-id-2 div.sk-label-container {text-align: center;}#sk-container-id-2 div.sk-container {/* jupyter's `normalize.less` sets `[hidden] { display: none; }` but bootstrap.min.css set `[hidden] { display: none !important; }` so we also need the `!important` here to be able to override the default hidden behavior on the sphinx rendered scikit-learn.org. See: https://github.com/scikit-learn/scikit-learn/issues/21755 */display: inline-block !important;position: relative;}#sk-container-id-2 div.sk-text-repr-fallback {display: none;}</style><div id=\"sk-container-id-2\" class=\"sk-top-container\"><div class=\"sk-text-repr-fallback\"><pre>DecisionTreeClassifier(criterion=&#x27;entropy&#x27;, max_depth=3, min_samples_split=3,\n",
       "                       random_state=0)</pre><b>In a Jupyter environment, please rerun this cell to show the HTML representation or trust the notebook. <br />On GitHub, the HTML representation is unable to render, please try loading this page with nbviewer.org.</b></div><div class=\"sk-container\" hidden><div class=\"sk-item\"><div class=\"sk-estimator sk-toggleable\"><input class=\"sk-toggleable__control sk-hidden--visually\" id=\"sk-estimator-id-2\" type=\"checkbox\" checked><label for=\"sk-estimator-id-2\" class=\"sk-toggleable__label sk-toggleable__label-arrow\">DecisionTreeClassifier</label><div class=\"sk-toggleable__content\"><pre>DecisionTreeClassifier(criterion=&#x27;entropy&#x27;, max_depth=3, min_samples_split=3,\n",
       "                       random_state=0)</pre></div></div></div></div></div>"
      ],
      "text/plain": [
       "DecisionTreeClassifier(criterion='entropy', max_depth=3, min_samples_split=3,\n",
       "                       random_state=0)"
      ]
     },
     "execution_count": 30,
     "metadata": {},
     "output_type": "execute_result"
    }
   ],
   "source": [
    "sklearn_clf = DecisionTreeClassifier(random_state=0,criterion=\"entropy\",min_samples_split=3, max_depth=3)\n",
    "sklearn_clf.fit(X_train,Y_train)"
   ]
  },
  {
   "cell_type": "code",
   "execution_count": 31,
   "id": "e5864120-9872-4a24-9040-1efaa152d794",
   "metadata": {
    "tags": []
   },
   "outputs": [],
   "source": [
    "sklearn_preds=sklearn_clf.predict(X_test)"
   ]
  },
  {
   "cell_type": "code",
   "execution_count": 32,
   "id": "beca81d1-9f3b-4727-ac8d-abe7f609b351",
   "metadata": {
    "tags": []
   },
   "outputs": [
    {
     "data": {
      "text/plain": [
       "0.9035087719298246"
      ]
     },
     "execution_count": 32,
     "metadata": {},
     "output_type": "execute_result"
    }
   ],
   "source": [
    "accuracy_score(Y_test, sklearn_preds)"
   ]
  },
  {
   "cell_type": "code",
   "execution_count": null,
   "id": "6b27ff0e-c478-4f29-b21b-1ac2e63a5dcd",
   "metadata": {},
   "outputs": [],
   "source": []
  }
 ],
 "metadata": {
  "kernelspec": {
   "display_name": "gpu",
   "language": "python",
   "name": "gpu"
  },
  "language_info": {
   "codemirror_mode": {
    "name": "ipython",
    "version": 3
   },
   "file_extension": ".py",
   "mimetype": "text/x-python",
   "name": "python",
   "nbconvert_exporter": "python",
   "pygments_lexer": "ipython3",
   "version": "3.10.13"
  }
 },
 "nbformat": 4,
 "nbformat_minor": 5
}
