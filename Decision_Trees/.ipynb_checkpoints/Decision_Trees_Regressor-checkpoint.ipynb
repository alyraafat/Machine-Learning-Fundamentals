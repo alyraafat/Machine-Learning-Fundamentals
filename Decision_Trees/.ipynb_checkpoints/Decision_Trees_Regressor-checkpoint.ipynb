{
 "cells": [
  {
   "cell_type": "code",
   "execution_count": 1,
   "id": "f73600ce-6715-4129-b949-6d3c2300f29d",
   "metadata": {},
   "outputs": [],
   "source": [
    "import numpy as np\n",
    "import pandas as pd\n",
    "from collections import Counter\n",
    "from sklearn.model_selection import train_test_split\n",
    "from sklearn.metrics import mean_squared_error\n",
    "from sklearn.tree import DecisionTreeRegressor"
   ]
  },
  {
   "cell_type": "code",
   "execution_count": 2,
   "id": "817e23a9-1825-4a4a-aefa-e3d6b8aef793",
   "metadata": {
    "tags": []
   },
   "outputs": [
    {
     "data": {
      "text/html": [
       "<div>\n",
       "<style scoped>\n",
       "    .dataframe tbody tr th:only-of-type {\n",
       "        vertical-align: middle;\n",
       "    }\n",
       "\n",
       "    .dataframe tbody tr th {\n",
       "        vertical-align: top;\n",
       "    }\n",
       "\n",
       "    .dataframe thead th {\n",
       "        text-align: right;\n",
       "    }\n",
       "</style>\n",
       "<table border=\"1\" class=\"dataframe\">\n",
       "  <thead>\n",
       "    <tr style=\"text-align: right;\">\n",
       "      <th></th>\n",
       "      <th>x0</th>\n",
       "      <th>x1</th>\n",
       "      <th>x2</th>\n",
       "      <th>x3</th>\n",
       "      <th>x4</th>\n",
       "      <th>y</th>\n",
       "    </tr>\n",
       "  </thead>\n",
       "  <tbody>\n",
       "    <tr>\n",
       "      <th>0</th>\n",
       "      <td>800</td>\n",
       "      <td>0.0</td>\n",
       "      <td>0.3048</td>\n",
       "      <td>71.3</td>\n",
       "      <td>0.002663</td>\n",
       "      <td>126.201</td>\n",
       "    </tr>\n",
       "    <tr>\n",
       "      <th>1</th>\n",
       "      <td>1000</td>\n",
       "      <td>0.0</td>\n",
       "      <td>0.3048</td>\n",
       "      <td>71.3</td>\n",
       "      <td>0.002663</td>\n",
       "      <td>125.201</td>\n",
       "    </tr>\n",
       "    <tr>\n",
       "      <th>2</th>\n",
       "      <td>1250</td>\n",
       "      <td>0.0</td>\n",
       "      <td>0.3048</td>\n",
       "      <td>71.3</td>\n",
       "      <td>0.002663</td>\n",
       "      <td>125.951</td>\n",
       "    </tr>\n",
       "    <tr>\n",
       "      <th>3</th>\n",
       "      <td>1600</td>\n",
       "      <td>0.0</td>\n",
       "      <td>0.3048</td>\n",
       "      <td>71.3</td>\n",
       "      <td>0.002663</td>\n",
       "      <td>127.591</td>\n",
       "    </tr>\n",
       "    <tr>\n",
       "      <th>4</th>\n",
       "      <td>2000</td>\n",
       "      <td>0.0</td>\n",
       "      <td>0.3048</td>\n",
       "      <td>71.3</td>\n",
       "      <td>0.002663</td>\n",
       "      <td>127.461</td>\n",
       "    </tr>\n",
       "  </tbody>\n",
       "</table>\n",
       "</div>"
      ],
      "text/plain": [
       "     x0   x1      x2    x3        x4        y\n",
       "0   800  0.0  0.3048  71.3  0.002663  126.201\n",
       "1  1000  0.0  0.3048  71.3  0.002663  125.201\n",
       "2  1250  0.0  0.3048  71.3  0.002663  125.951\n",
       "3  1600  0.0  0.3048  71.3  0.002663  127.591\n",
       "4  2000  0.0  0.3048  71.3  0.002663  127.461"
      ]
     },
     "execution_count": 2,
     "metadata": {},
     "output_type": "execute_result"
    }
   ],
   "source": [
    "df = pd.read_csv(\"airfoil_noise_data.csv\")\n",
    "df.head()"
   ]
  },
  {
   "cell_type": "code",
   "execution_count": 3,
   "id": "afe246b2-716e-4f6c-9bae-301cb286728e",
   "metadata": {
    "tags": []
   },
   "outputs": [],
   "source": [
    "X = df.iloc[:, :-1].values\n",
    "Y = df.iloc[:, -1].values.reshape(-1,1)\n",
    "X_train, X_test, Y_train, Y_test = train_test_split(X, Y, test_size=.2, random_state=41)"
   ]
  },
  {
   "cell_type": "code",
   "execution_count": 4,
   "id": "33030868-b87c-465f-9c5a-ce7a81008309",
   "metadata": {
    "tags": []
   },
   "outputs": [
    {
     "data": {
      "text/plain": [
       "((1202, 5), (1202, 1))"
      ]
     },
     "execution_count": 4,
     "metadata": {},
     "output_type": "execute_result"
    }
   ],
   "source": [
    "X_train.shape,Y_train.shape"
   ]
  },
  {
   "cell_type": "code",
   "execution_count": 5,
   "id": "fe0642ea-46e4-48df-b82c-7d2de7cdba0b",
   "metadata": {
    "tags": []
   },
   "outputs": [],
   "source": [
    "class Node():\n",
    "    def __init__(self, feature_index=None, threshold=None, left=None, right=None, var_red=None, value=None):        # for decision node\n",
    "        self.feature_index = feature_index\n",
    "        self.threshold = threshold\n",
    "        self.left = left\n",
    "        self.right = right\n",
    "        self.var_red = var_red\n",
    "        \n",
    "        # for leaf node\n",
    "        self.value = value"
   ]
  },
  {
   "cell_type": "code",
   "execution_count": 6,
   "id": "cdb808dd-f0ce-48c3-b44d-7e2ee7b5fc5f",
   "metadata": {
    "tags": []
   },
   "outputs": [],
   "source": [
    "class DecisionTreeRegressor:\n",
    "    def __init__(self, min_samples_split=2, max_depth=2, n_feats=None):\n",
    "        self.root = None\n",
    "        # stopping conditions for regularization\n",
    "        self.min_samples_split = min_samples_split\n",
    "        self.max_depth = max_depth\n",
    "        self.n_feats=n_feats\n",
    "    \n",
    "    def fit(self,X,y):\n",
    "        dataset = np.concatenate((X,y),axis=1)\n",
    "        self.root = self.build_tree(dataset)\n",
    "    \n",
    "    def variance_reduction(self,parent,left,right):\n",
    "        weight_l = len(left)/len(parent)\n",
    "        weight_r = len(right)/len(parent)\n",
    "        var_red = np.var(parent)-(weight_l*np.var(left)+weight_r*np.var(right))\n",
    "        return var_red\n",
    "    \n",
    "    def calculate_leaf_value(self, y):\n",
    "        mean_y = np.mean(y)\n",
    "        return mean_y\n",
    "        \n",
    "    def build_tree(self,dataset,curr_depth=0):\n",
    "        x = dataset[:,:-1]\n",
    "        y = dataset[:,-1]\n",
    "        n_labels = len(np.unique(y))\n",
    "        num_examples,num_features=x.shape\n",
    "        if curr_depth<=self.max_depth and num_features>=self.min_samples_split:\n",
    "            if self.n_feats is None:\n",
    "                feat_idxs = np.arange(num_features)\n",
    "            else:\n",
    "                feat_idxs = np.random.choice(n_features, self.n_feats, replace=False)\n",
    "            best_split=self.get_best_split(dataset,num_examples,feat_idxs)\n",
    "            if best_split!={} and best_split[\"var_red\"]>0:\n",
    "                feature_index=best_split[\"feature_index\"]\n",
    "                threshold=best_split[\"threshold\"]\n",
    "                left=best_split[\"left\"] \n",
    "                right=best_split[\"right\"]\n",
    "                var_red=best_split[\"var_red\"]\n",
    "                left_subtree=self.build_tree(left,curr_depth+1)\n",
    "                right_subtree=self.build_tree(right,curr_depth+1)\n",
    "                return Node(feature_index,threshold,left_subtree,right_subtree,var_red)\n",
    "        leaf_val=self.calculate_leaf_value(y)\n",
    "        return Node(value=leaf_val)\n",
    "\n",
    "    def get_best_split(self,dataset,num_examples,feat_idxs):\n",
    "        best_split = {}\n",
    "        y = dataset[:,-1]\n",
    "        max_var_red= -float(\"inf\")\n",
    "        for feature_index in feat_idxs:\n",
    "            feature_vector = dataset[:,feature_index]\n",
    "            thresholds = np.unique(feature_vector)\n",
    "            for threshold in thresholds:\n",
    "                dataset_left,dataset_right = self.split(dataset,feature_index,threshold)\n",
    "                if len(dataset_left)>0 and len(dataset_right)>0:\n",
    "                    y_left, y_right = dataset_left[:,-1],dataset_right[:,-1]\n",
    "                    curr_var_red = self.variance_reduction(y,y_left,y_right)\n",
    "                    if max_var_red<curr_var_red:\n",
    "                        best_split[\"feature_index\"] = feature_index\n",
    "                        best_split[\"threshold\"] = threshold\n",
    "                        best_split[\"left\"] =dataset_left\n",
    "                        best_split[\"right\"]=dataset_right\n",
    "                        best_split[\"var_red\"] = curr_var_red\n",
    "                        max_var_red =curr_var_red\n",
    "        return best_split\n",
    "    \n",
    "    def split(self,dataset,feature_index,threshold):\n",
    "        dataset_left = np.array([row for row in dataset if row[feature_index]<=threshold])\n",
    "        dataset_right = np.array([row for row in dataset if row[feature_index]>threshold])\n",
    "        return dataset_left, dataset_right\n",
    "    \n",
    "    def print_tree(self,tree=None, indent=\" \"):\n",
    "        \n",
    "        if tree==None:\n",
    "            tree=self.root\n",
    "        \n",
    "        if tree.value is None:\n",
    "            print(\"X_\"+str(tree.feature_index), \"<=\", tree.threshold, \"? info_gain: \", tree.var_red)\n",
    "            print(\"%sleft:\" % (indent), end=\"\")\n",
    "            self.print_tree(tree.left, indent + indent)\n",
    "            print(\"%sright:\" % (indent), end=\"\")\n",
    "            self.print_tree(tree.right, indent + indent)\n",
    "        else:\n",
    "            print(tree.value)\n",
    "    \n",
    "    def predict(self,x):\n",
    "        \n",
    "        preds = np.array([self.make_prediction(xi,self.root) for xi in x])\n",
    "        return preds\n",
    "    \n",
    "    def make_prediction(self,x,tree):\n",
    "        if tree.value is not None:\n",
    "            return tree.value\n",
    "        threshold = tree.threshold\n",
    "        if x[tree.feature_index] <= threshold:\n",
    "            return self.make_prediction(x,tree.left)\n",
    "        else:\n",
    "            return self.make_prediction(x,tree.right)\n"
   ]
  },
  {
   "cell_type": "code",
   "execution_count": 7,
   "id": "4c316418-a1ee-4a7e-ae3a-646fbda46996",
   "metadata": {
    "tags": []
   },
   "outputs": [
    {
     "name": "stdout",
     "output_type": "stream",
     "text": [
      "X_0 <= 3150.0 ? info_gain:  7.132048702017748\n",
      " left:X_4 <= 0.0337792 ? info_gain:  3.590330569067664\n",
      "  left:X_3 <= 55.5 ? info_gain:  1.17898999813184\n",
      "    left:X_4 <= 0.00251435 ? info_gain:  1.614396721819876\n",
      "        left:128.9919833333333\n",
      "        right:125.90953579676673\n",
      "    right:X_1 <= 15.4 ? info_gain:  2.2342245360792994\n",
      "        left:129.39160280373832\n",
      "        right:123.80422222222222\n",
      "  right:X_0 <= 1250.0 ? info_gain:  9.970884020498868\n",
      "    left:X_4 <= 0.0483159 ? info_gain:  6.35527515982486\n",
      "        left:124.38024528301887\n",
      "        right:118.30039999999998\n",
      "    right:X_3 <= 39.6 ? info_gain:  5.036286657241031\n",
      "        left:113.58091666666667\n",
      "        right:118.07284615384616\n",
      " right:X_4 <= 0.00146332 ? info_gain:  29.08299210506528\n",
      "  left:X_0 <= 8000.0 ? info_gain:  11.886497073996964\n",
      "    left:X_2 <= 0.0508 ? info_gain:  7.608945827689519\n",
      "        left:134.04247500000002\n",
      "        right:127.33581818181818\n",
      "    right:X_4 <= 0.00076193 ? info_gain:  10.6229193224008\n",
      "        left:128.94078571428574\n",
      "        right:122.40768750000001\n",
      "  right:X_4 <= 0.0229028 ? info_gain:  5.638575922510643\n",
      "    left:X_0 <= 6300.0 ? info_gain:  5.985051045988914\n",
      "        left:120.04740816326529\n",
      "        right:114.67370491803278\n",
      "    right:X_4 <= 0.0368233 ? info_gain:  8.638744793046438\n",
      "        left:113.83169565217393\n",
      "        right:107.6395833333333\n"
     ]
    }
   ],
   "source": [
    "my_regressor = DecisionTreeRegressor(min_samples_split=3, max_depth=3)\n",
    "my_regressor.fit(X_train,Y_train)\n",
    "my_regressor.print_tree()"
   ]
  },
  {
   "cell_type": "code",
   "execution_count": 8,
   "id": "91646b1b-5755-4ce0-b582-025c1ac84a61",
   "metadata": {
    "tags": []
   },
   "outputs": [
    {
     "data": {
      "text/plain": [
       "4.851358097184457"
      ]
     },
     "execution_count": 8,
     "metadata": {},
     "output_type": "execute_result"
    }
   ],
   "source": [
    "Y_pred = my_regressor.predict(X_test) \n",
    "np.sqrt(mean_squared_error(Y_test, Y_pred))"
   ]
  },
  {
   "cell_type": "markdown",
   "id": "adc1c280-33e8-496c-a5d1-6fe0cec299e7",
   "metadata": {},
   "source": [
    "## Sklearn "
   ]
  },
  {
   "cell_type": "code",
   "execution_count": 20,
   "id": "e6cdb7a6-2acd-4324-ae46-255563e2dcf4",
   "metadata": {
    "tags": []
   },
   "outputs": [
    {
     "data": {
      "text/plain": [
       "5.376979589924685"
      ]
     },
     "execution_count": 20,
     "metadata": {},
     "output_type": "execute_result"
    }
   ],
   "source": [
    "sklearn_clf = DecisionTreeRegressor(random_state=0,min_samples_split=3, max_depth=3)\n",
    "sklearn_clf.fit(X_train,Y_train)\n",
    "sklearn_preds=sklearn_clf.predict(X_test)\n",
    "np.sqrt(mean_squared_error(Y_test, sklearn_preds))"
   ]
  },
  {
   "cell_type": "code",
   "execution_count": null,
   "id": "35e449bf-71f6-4832-8a4d-38a6aabbba4d",
   "metadata": {},
   "outputs": [],
   "source": []
  }
 ],
 "metadata": {
  "kernelspec": {
   "display_name": "gpu",
   "language": "python",
   "name": "gpu"
  },
  "language_info": {
   "codemirror_mode": {
    "name": "ipython",
    "version": 3
   },
   "file_extension": ".py",
   "mimetype": "text/x-python",
   "name": "python",
   "nbconvert_exporter": "python",
   "pygments_lexer": "ipython3",
   "version": "3.10.13"
  }
 },
 "nbformat": 4,
 "nbformat_minor": 5
}
