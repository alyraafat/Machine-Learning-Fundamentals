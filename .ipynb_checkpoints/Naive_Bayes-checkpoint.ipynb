{
 "cells": [
  {
   "cell_type": "code",
   "execution_count": 1,
   "id": "3b0bd89e-0bea-480a-814a-c420d2e46882",
   "metadata": {
    "tags": []
   },
   "outputs": [],
   "source": [
    "import numpy as np\n",
    "import pandas as pd\n",
    "import matplotlib.pyplot as plt\n",
    "from sklearn.datasets import make_blobs\n",
    "from sklearn.model_selection import train_test_split"
   ]
  },
  {
   "cell_type": "code",
   "execution_count": 2,
   "id": "c168ec48-6c04-43d2-b085-3ce49f01e0af",
   "metadata": {
    "tags": []
   },
   "outputs": [],
   "source": [
    "X, y = make_blobs(n_samples=500, centers=3, n_features=2,random_state=0)\n",
    "X_train, X_test, y_train, y_test = train_test_split(\n",
    "    X, y, test_size=0.2, random_state=5\n",
    ")"
   ]
  },
  {
   "cell_type": "markdown",
   "id": "97d2e5e3-3823-4e71-8327-7bf98792d467",
   "metadata": {},
   "source": [
    "# Naive Bayes"
   ]
  },
  {
   "cell_type": "code",
   "execution_count": 17,
   "id": "0f0faee9-cbdc-4b30-8a8a-d7f84981d4ed",
   "metadata": {
    "tags": []
   },
   "outputs": [],
   "source": [
    "class NaiveBayes:\n",
    "    def fit(self,X,y):\n",
    "        self.classes = np.unique(y)\n",
    "        n_samples,n_features = X.shape\n",
    "        n_classes = len(self.classes)\n",
    "        self.means = np.zeros((n_classes,n_features))\n",
    "        self.vars = np.zeros((n_classes,n_features)) # we calculate variances not covarinace as features are independant in our assumption\n",
    "        self.priors = np.zeros(n_classes)\n",
    "        \n",
    "        for c in self.classes:\n",
    "            X_c = X[y==c]\n",
    "            self.means[c] = np.mean(X_c,axis=0)\n",
    "            self.vars[c] = np.var(X_c,axis=0)\n",
    "            self.priors[c] = X_c.shape[0]/n_samples\n",
    "            \n",
    "    def predict(self,X):\n",
    "        preds = []\n",
    "        for x in X:\n",
    "            posteriors = []\n",
    "            for c in self.classes:\n",
    "                mean_c,var_c,prior_c = self.means[c],self.vars[c],self.priors[c]\n",
    "                log_prior_c = np.log(prior_c)\n",
    "                likelihood = self.gaussian(x,mean_c,var_c)\n",
    "                log_likelihood = np.sum(np.log(likelihood))\n",
    "                posterior = log_prior_c + log_likelihood\n",
    "                posteriors.append(posterior)\n",
    "            preds.append(np.argmax(posteriors))\n",
    "        return preds\n",
    "    \n",
    "    def gaussian(self,x,mean,var):\n",
    "        numerator = np.exp(-((x - mean) ** 2) / (2 * var))\n",
    "        denominator = np.sqrt(2 * np.pi * var)\n",
    "        return numerator / denominator"
   ]
  },
  {
   "cell_type": "code",
   "execution_count": 18,
   "id": "898358c0-dd84-46ee-8f45-8a84734f893e",
   "metadata": {
    "tags": []
   },
   "outputs": [],
   "source": [
    "def accuracy(y_true,y_pred):\n",
    "    return np.sum(y_true==y_pred)/len(y_true)"
   ]
  },
  {
   "cell_type": "code",
   "execution_count": 19,
   "id": "e713b42b-3833-4f51-b5d3-8d45078a1088",
   "metadata": {
    "tags": []
   },
   "outputs": [],
   "source": [
    "nb = NaiveBayes()\n",
    "nb.fit(X_train,y_train)\n",
    "y_preds = nb.predict(X_test)"
   ]
  },
  {
   "cell_type": "code",
   "execution_count": 20,
   "id": "ccccd885-20d5-4e06-9a12-5c87f30c8e3b",
   "metadata": {
    "tags": []
   },
   "outputs": [
    {
     "data": {
      "text/plain": [
       "0.92"
      ]
     },
     "execution_count": 20,
     "metadata": {},
     "output_type": "execute_result"
    }
   ],
   "source": [
    "accuracy(y_test,y_preds)"
   ]
  },
  {
   "cell_type": "markdown",
   "id": "5c4c3c9e-f0a1-48e5-9f1d-35b06d1a1c9b",
   "metadata": {},
   "source": [
    "# Sklearn"
   ]
  },
  {
   "cell_type": "code",
   "execution_count": 21,
   "id": "4804fa0e-1113-4afd-8814-a5feb1e5bfc3",
   "metadata": {
    "tags": []
   },
   "outputs": [],
   "source": [
    "from sklearn.naive_bayes import GaussianNB"
   ]
  },
  {
   "cell_type": "code",
   "execution_count": 22,
   "id": "a42b4b7b-9f83-44de-88b0-186c84d9b47a",
   "metadata": {
    "tags": []
   },
   "outputs": [
    {
     "data": {
      "text/plain": [
       "0.92"
      ]
     },
     "execution_count": 22,
     "metadata": {},
     "output_type": "execute_result"
    }
   ],
   "source": [
    "gnb = GaussianNB()\n",
    "gnb.fit(X_train, y_train)\n",
    "sklearn_preds = gnb.predict(X_test)\n",
    "accuracy(y_test,sklearn_preds)"
   ]
  }
 ],
 "metadata": {
  "kernelspec": {
   "display_name": "gpu",
   "language": "python",
   "name": "gpu"
  },
  "language_info": {
   "codemirror_mode": {
    "name": "ipython",
    "version": 3
   },
   "file_extension": ".py",
   "mimetype": "text/x-python",
   "name": "python",
   "nbconvert_exporter": "python",
   "pygments_lexer": "ipython3",
   "version": "3.10.13"
  }
 },
 "nbformat": 4,
 "nbformat_minor": 5
}
