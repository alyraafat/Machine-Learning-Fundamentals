{
 "cells": [
  {
   "cell_type": "code",
   "execution_count": 79,
   "id": "015824d0-b1b4-44d2-9d33-9499644b0f24",
   "metadata": {
    "tags": []
   },
   "outputs": [],
   "source": [
    "import numpy as np\n",
    "import pandas as pd\n",
    "import matplotlib.pyplot as plt\n",
    "from sklearn.datasets import load_breast_cancer\n",
    "from sklearn.ensemble import AdaBoostClassifier\n",
    "from sklearn.model_selection import train_test_split"
   ]
  },
  {
   "cell_type": "markdown",
   "id": "1188e0f7-a038-4691-8eb6-e9ba92e423d7",
   "metadata": {},
   "source": [
    "# Dataset"
   ]
  },
  {
   "cell_type": "code",
   "execution_count": 8,
   "id": "c05aeb80-6f5b-437c-8e8d-22696e6afe67",
   "metadata": {
    "tags": []
   },
   "outputs": [],
   "source": [
    "data = load_breast_cancer()\n",
    "X, y = data.data, data.target\n",
    "\n",
    "y[y == 0] = -1\n",
    "\n",
    "X_train, X_test, y_train, y_test = train_test_split(\n",
    "    X, y, test_size=0.2, random_state=5\n",
    ")"
   ]
  },
  {
   "cell_type": "markdown",
   "id": "1c06f4f8-7d59-4c5d-84ed-3defa3742b78",
   "metadata": {},
   "source": [
    "# Adaboost"
   ]
  },
  {
   "cell_type": "markdown",
   "id": "99a13a02-8195-4b14-8a10-41cd77759bdc",
   "metadata": {},
   "source": [
    "## Decision Stump"
   ]
  },
  {
   "cell_type": "code",
   "execution_count": 16,
   "id": "5e5e786c-d531-47f5-a941-2cac6ce8e1f0",
   "metadata": {
    "tags": []
   },
   "outputs": [],
   "source": [
    "class DecisionStump: \n",
    "    def __init__(self):\n",
    "        self.feature_idx = None\n",
    "        self.threshold = None\n",
    "        self.polarity = 1\n",
    "        self.alpha = None\n",
    "    \n",
    "    def predict(self,X):\n",
    "        n_samples = X.shape[0]\n",
    "        feature = X[:,self.feature_idx]\n",
    "        preds = np.ones(n_samples)\n",
    "        if self.polarity == 1:\n",
    "            preds[feature<self.threshold] = -1\n",
    "        else:\n",
    "            preds[feature>=self.threshold] = -1\n",
    "        return preds"
   ]
  },
  {
   "cell_type": "markdown",
   "id": "1c7cf31e-f473-46f4-b498-938950c8e939",
   "metadata": {},
   "source": [
    "## Adaboost Class"
   ]
  },
  {
   "cell_type": "code",
   "execution_count": 65,
   "id": "a9b60802-8c98-4cdf-a089-34a3b117532d",
   "metadata": {
    "tags": []
   },
   "outputs": [],
   "source": [
    "class AdaBoost:\n",
    "    def __init__(self,n_clfs=5):\n",
    "        self.n_clfs = n_clfs\n",
    "    \n",
    "    def fit(self,X,y):\n",
    "        n_samples,n_features = X.shape\n",
    "        self.clfs = []\n",
    "        self.weights = np.full(n_samples,fill_value=1/n_samples)\n",
    "        for _ in range(self.n_clfs):\n",
    "            curr_clf = DecisionStump()\n",
    "            min_error = float(\"inf\")\n",
    "            for feature_i in range(n_features):\n",
    "                curr_feature = X[:,feature_i]\n",
    "                thresholds = np.unique(curr_feature)\n",
    "                for threshold in thresholds:\n",
    "                    p=1\n",
    "                    curr_preds = np.ones(n_samples)\n",
    "                    curr_preds[curr_feature<threshold] = -1\n",
    "                    misclassified = y!=curr_preds\n",
    "                    error = np.sum(self.weights*misclassified)\n",
    "                    if error>0.5:\n",
    "                        error = 1-error\n",
    "                        p = -1\n",
    "                    \n",
    "                    if error<min_error:\n",
    "                        min_error=error\n",
    "                        curr_clf.threshold = threshold\n",
    "                        curr_clf.feature_idx = feature_i\n",
    "                        curr_clf.polarity = p\n",
    "            eps = 1e-10\n",
    "            curr_clf.alpha = 0.5*np.log((1-min_error+eps)/(min_error+eps))\n",
    "            preds = curr_clf.predict(X)\n",
    "            self.weights *= np.exp(-curr_clf.alpha*y*preds)\n",
    "            self.weights /= np.sum(self.weights)\n",
    "            self.clfs.append(curr_clf)\n",
    "    def predict(self,X):\n",
    "        all_preds = np.zeros(shape=(self.n_clfs,X.shape[0]))\n",
    "        for i,clf in enumerate(self.clfs):\n",
    "            all_preds[i] = clf.alpha*clf.predict(X)\n",
    "        sum_preds = np.sum(all_preds,axis=0)\n",
    "        return np.sign(sum_preds)\n",
    "        "
   ]
  },
  {
   "cell_type": "code",
   "execution_count": 66,
   "id": "bbacf9ad-1afd-4b2f-81d1-fb3d2fe047cc",
   "metadata": {
    "tags": []
   },
   "outputs": [],
   "source": [
    "def accuracy(y_true,y_pred):\n",
    "    return np.sum(y_true==y_pred)/len(y_true)"
   ]
  },
  {
   "cell_type": "code",
   "execution_count": 73,
   "id": "d1c2c05e-7a07-4506-82cb-a4bfbabbee1e",
   "metadata": {
    "tags": []
   },
   "outputs": [],
   "source": [
    "my_ab = AdaBoost(n_clfs=4)\n",
    "my_ab.fit(X_train,y_train)"
   ]
  },
  {
   "cell_type": "code",
   "execution_count": 74,
   "id": "45992bee-7510-43fb-a670-591e44565afc",
   "metadata": {
    "tags": []
   },
   "outputs": [],
   "source": [
    "y_pred = my_ab.predict(X_test)"
   ]
  },
  {
   "cell_type": "code",
   "execution_count": 75,
   "id": "15245c0b-38ea-4c4c-b3d2-28624346711e",
   "metadata": {
    "tags": []
   },
   "outputs": [
    {
     "data": {
      "text/plain": [
       "0.956140350877193"
      ]
     },
     "execution_count": 75,
     "metadata": {},
     "output_type": "execute_result"
    }
   ],
   "source": [
    "accuracy(y_test,y_pred)"
   ]
  },
  {
   "cell_type": "code",
   "execution_count": null,
   "id": "50f78e3d-8050-48ee-9ba4-7bf28c886390",
   "metadata": {
    "tags": []
   },
   "outputs": [],
   "source": [
    "n_clfs = [4,5,6,7,8,9,10,11,12]\n",
    "accuracy_scores = []\n",
    "for n in n_clfs:\n",
    "    ab = AdaBoost(n_clfs=n)\n",
    "    ab.fit(X_train,y_train)\n",
    "    preds = ab.predict(X_test)\n",
    "    accuracy_scores.append(accuracy(y_test,preds))"
   ]
  },
  {
   "cell_type": "code",
   "execution_count": 80,
   "id": "dcb29dea-b234-4e3d-b08d-eb7181e92b67",
   "metadata": {
    "tags": []
   },
   "outputs": [
    {
     "data": {
      "image/png": "[encoded data removed]",
      "text/plain": [
       "<Figure size 800x600 with 1 Axes>"
      ]
     },
     "metadata": {},
     "output_type": "display_data"
    }
   ],
   "source": [
    "plt.figure(figsize=(8, 6))\n",
    "plt.plot(n_clfs, accuracy_scores, marker='o')  # 'o' marker to show the individual data points\n",
    "plt.title(\"Plot of accuracy vs n_clfs\")\n",
    "plt.xlabel(\"n_clfs\")\n",
    "plt.ylabel(\"accuracy\")\n",
    "plt.grid(True)\n",
    "plt.show()"
   ]
  },
  {
   "cell_type": "markdown",
   "id": "6d6eec8d-a856-4735-8ed0-20b18affdb7e",
   "metadata": {},
   "source": [
    "It appears that 8 is least best number of n_clfs (to prevent overfitting)"
   ]
  },
  {
   "cell_type": "markdown",
   "id": "96774946-f8e0-4e48-91f3-96095e48fd87",
   "metadata": {
    "tags": []
   },
   "source": [
    "# Sklearn"
   ]
  },
  {
   "cell_type": "code",
   "execution_count": 64,
   "id": "de788ead-cb13-4fdf-ac6e-e892fc25690e",
   "metadata": {
    "tags": []
   },
   "outputs": [
    {
     "data": {
      "text/plain": [
       "0.9649122807017544"
      ]
     },
     "execution_count": 64,
     "metadata": {},
     "output_type": "execute_result"
    }
   ],
   "source": [
    "sklearn_ab = AdaBoostClassifier(n_estimators=4)\n",
    "sklearn_ab.fit(X_train,y_train)\n",
    "sklearn_ab.predict(X_test)\n",
    "sklearn_ab.score(X_test,y_test)"
   ]
  }
 ],
 "metadata": {
  "kernelspec": {
   "display_name": "gpu",
   "language": "python",
   "name": "gpu"
  },
  "language_info": {
   "codemirror_mode": {
    "name": "ipython",
    "version": 3
   },
   "file_extension": ".py",
   "mimetype": "text/x-python",
   "name": "python",
   "nbconvert_exporter": "python",
   "pygments_lexer": "ipython3",
   "version": "3.10.13"
  }
 },
 "nbformat": 4,
 "nbformat_minor": 5
}
